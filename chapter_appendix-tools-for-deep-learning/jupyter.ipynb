{
  "cells": [
    {
      "cell_type": "markdown",
      "id": "31d9a4c9",
      "metadata": {
        "origin_pos": 0,
        "id": "31d9a4c9"
      },
      "source": [
        "# Using Jupyter Notebooks\n",
        ":label:`sec_jupyter`\n",
        "\n",
        "\n",
        "This section describes how to edit and run the code\n",
        "in each section of this book\n",
        "using the Jupyter Notebook. Make sure you have\n",
        "installed Jupyter and downloaded the\n",
        "code as described in\n",
        ":ref:`chap_installation`.\n",
        "If you want to know more about Jupyter see the excellent tutorial in\n",
        "their [documentation](https://jupyter.readthedocs.io/en/latest/).\n",
        "\n",
        "\n",
        "## Editing and Running the Code Locally\n",
        "\n",
        "Suppose that the local path of the book's code is `xx/yy/d2l-en/`. Use the shell to change the directory to this path (`cd xx/yy/d2l-en`) and run the command `jupyter notebook`. If your browser does not do this automatically, open http://localhost:8888 and you will see the interface of Jupyter and all the folders containing the code of the book, as shown in :numref:`fig_jupyter00`.\n",
        "\n",
        "![The folders containing the code of this book.](https://github.com/d2l-ai/d2l-en-colab/blob/master/img/jupyter00.png?raw=1)\n",
        ":width:`600px`\n",
        ":label:`fig_jupyter00`\n",
        "\n",
        "\n",
        "You can access the notebook files by clicking on the folder displayed on the webpage.\n",
        "They usually have the suffix \".ipynb\".\n",
        "For the sake of brevity, we create a temporary \"test.ipynb\" file.\n",
        "The content displayed after you click it is\n",
        "shown in :numref:`fig_jupyter01`.\n",
        "This notebook includes a markdown cell and a code cell. The content in the markdown cell includes \"This Is a Title\" and \"This is text.\".\n",
        "The code cell contains two lines of Python code.\n",
        "\n",
        "![Markdown and code cells in the \"text.ipynb\" file.](https://github.com/d2l-ai/d2l-en-colab/blob/master/img/jupyter01.png?raw=1)\n",
        ":width:`600px`\n",
        ":label:`fig_jupyter01`\n",
        "\n",
        "\n",
        "Double click on the markdown cell to enter edit mode.\n",
        "Add a new text string \"Hello world.\" at the end of the cell, as shown in :numref:`fig_jupyter02`.\n",
        "\n",
        "![Edit the markdown cell.](https://github.com/d2l-ai/d2l-en-colab/blob/master/img/jupyter02.png?raw=1)\n",
        ":width:`600px`\n",
        ":label:`fig_jupyter02`\n",
        "\n",
        "\n",
        "As demonstrated in :numref:`fig_jupyter03`,\n",
        "click \"Cell\" $\\rightarrow$ \"Run Cells\" in the menu bar to run the edited cell.\n",
        "\n",
        "![Run the cell.](https://github.com/d2l-ai/d2l-en-colab/blob/master/img/jupyter03.png?raw=1)\n",
        ":width:`600px`\n",
        ":label:`fig_jupyter03`\n",
        "\n",
        "After running, the markdown cell is shown in :numref:`fig_jupyter04`.\n",
        "\n",
        "![The markdown cell after running.](https://github.com/d2l-ai/d2l-en-colab/blob/master/img/jupyter04.png?raw=1)\n",
        ":width:`600px`\n",
        ":label:`fig_jupyter04`\n",
        "\n",
        "\n",
        "Next, click on the code cell. Multiply the elements by 2 after the last line of code, as shown in :numref:`fig_jupyter05`.\n",
        "\n",
        "![Edit the code cell.](https://github.com/d2l-ai/d2l-en-colab/blob/master/img/jupyter05.png?raw=1)\n",
        ":width:`600px`\n",
        ":label:`fig_jupyter05`\n",
        "\n",
        "\n",
        "You can also run the cell with a shortcut (\"Ctrl + Enter\" by default) and obtain the output result from :numref:`fig_jupyter06`.\n",
        "\n",
        "![Run the code cell to obtain the output.](https://github.com/d2l-ai/d2l-en-colab/blob/master/img/jupyter06.png?raw=1)\n",
        ":width:`600px`\n",
        ":label:`fig_jupyter06`\n",
        "\n",
        "\n",
        "When a notebook contains more cells, we can click \"Kernel\" $\\rightarrow$ \"Restart & Run All\" in the menu bar to run all the cells in the entire notebook. By clicking \"Help\" $\\rightarrow$ \"Edit Keyboard Shortcuts\" in the menu bar, you can edit the shortcuts according to your preferences.\n",
        "\n",
        "## Advanced Options\n",
        "\n",
        "Beyond local editing two things are quite important: editing the notebooks in the markdown format and running Jupyter remotely.\n",
        "The latter matters when we want to run the code on a faster server.\n",
        "The former matters since Jupyter's native ipynb format stores a lot of auxiliary data that is\n",
        "irrelevant to the content,\n",
        "mostly related to how and where the code is run.\n",
        "This is confusing for Git, making\n",
        "reviewing contributions very difficult.\n",
        "Fortunately there is an alternative---native editing in the markdown format.\n",
        "\n",
        "### Markdown Files in Jupyter\n",
        "\n",
        "If you wish to contribute to the content of this book, you need to modify the\n",
        "source file (md file, not ipynb file) on GitHub.\n",
        "Using the notedown plugin we\n",
        "can modify notebooks in the md format directly in Jupyter.\n",
        "\n",
        "\n",
        "First, install the notedown plugin, run the Jupyter Notebook, and load the plugin:\n",
        "\n",
        "```\n",
        "pip install d2l-notedown  # You may need to uninstall the original notedown.\n",
        "jupyter notebook --NotebookApp.contents_manager_class='notedown.NotedownContentsManager'\n",
        "```\n",
        "\n",
        "You may also turn on the notedown plugin by default whenever you run the Jupyter Notebook.\n",
        "First, generate a Jupyter Notebook configuration file (if it has already been generated, you can skip this step).\n",
        "\n",
        "```\n",
        "jupyter notebook --generate-config\n",
        "```\n",
        "\n",
        "Then, add the following line to the end of the Jupyter Notebook configuration file (for Linux or macOS, usually in the path `~/.jupyter/jupyter_notebook_config.py`):\n",
        "\n",
        "```\n",
        "c.NotebookApp.contents_manager_class = 'notedown.NotedownContentsManager'\n",
        "```\n",
        "\n",
        "After that, you only need to run the `jupyter notebook` command to turn on the notedown plugin by default.\n",
        "\n",
        "### Running Jupyter Notebooks on a Remote Server\n",
        "\n",
        "Sometimes, you may want to run Jupyter notebooks on a remote server and access it through a browser on your local computer. If Linux or macOS is installed on your local machine (Windows can also support this function through third-party software such as PuTTY), you can use port forwarding:\n",
        "\n",
        "```\n",
        "ssh myserver -L 8888:localhost:8888\n",
        "```\n",
        "\n",
        "The above string `myserver` is the address of the remote server.\n",
        "Then we can use http://localhost:8888 to access the remote server `myserver` that runs Jupyter notebooks. We will detail on how to run Jupyter notebooks on AWS instances\n",
        "later in this appendix.\n",
        "\n",
        "### Timing\n",
        "\n",
        "We can use the `ExecuteTime` plugin to time the execution of each code cell in Jupyter notebooks.\n",
        "Use the following commands to install the plugin:\n",
        "\n",
        "```\n",
        "pip install jupyter_contrib_nbextensions\n",
        "jupyter contrib nbextension install --user\n",
        "jupyter nbextension enable execute_time/ExecuteTime\n",
        "```\n",
        "\n",
        "## Summary\n",
        "\n",
        "* Using the Jupyter Notebook tool, we can edit, run, and contribute to each section of the book.\n",
        "* We can run Jupyter notebooks on remote servers using port forwarding.\n",
        "\n",
        "\n",
        "## Exercises\n",
        "\n",
        "1. Edit and run the code in this book with the Jupyter Notebook on your local machine.\n",
        "1. Edit and run the code in this book with the Jupyter Notebook *remotely* via port forwarding.\n",
        "1. Compare the running time of the operations $\\mathbf{A}^\\top \\mathbf{B}$ and $\\mathbf{A} \\mathbf{B}$ for two square matrices in $\\mathbb{R}^{1024 \\times 1024}$. Which one is faster?\n",
        "\n",
        "\n",
        "[Discussions](https://discuss.d2l.ai/t/421)\n"
      ]
    },
    {
      "cell_type": "code",
      "source": [
        "f1 = open(\"Test.txt\")\n",
        "\n",
        "f2 = f1.read()\n",
        "\n",
        "print(\"The contents of the file are\\n\",f2)"
      ],
      "metadata": {
        "id": "7uai7-DAXool",
        "outputId": "660a2c90-a4c5-46fa-b7a6-f1c88722335c",
        "colab": {
          "base_uri": "https://localhost:8080/"
        }
      },
      "id": "7uai7-DAXool",
      "execution_count": 50,
      "outputs": [
        {
          "output_type": "stream",
          "name": "stdout",
          "text": [
            "The contents of the file are\n",
            " \n"
          ]
        }
      ]
    },
    {
      "cell_type": "code",
      "source": [
        "with open(\"Test.txt\",\"w\") as f:\n",
        "  f.write(\"Hello\\n\")\n",
        "  f.write(\"You are reading contents of file Test\\n\")\n",
        "  f.write(\"You are reading contents 2 of file Test\\n\")\n",
        "  f.write(\"You are reading contents 3 of file Test\\n\")\n",
        ""
      ],
      "metadata": {
        "id": "_HQqyIEEX5QA"
      },
      "id": "_HQqyIEEX5QA",
      "execution_count": 51,
      "outputs": []
    },
    {
      "cell_type": "code",
      "source": [
        "f1 = open(\"Test.txt\")\n",
        "\n",
        "f2 = f1.read()\n",
        "\n",
        "print(\"The contents of the file are\\n\",f2)"
      ],
      "metadata": {
        "id": "VFtYdQzOZXM0",
        "outputId": "b8dbebfc-6554-4c50-d67c-e00339ebe2e8",
        "colab": {
          "base_uri": "https://localhost:8080/"
        }
      },
      "id": "VFtYdQzOZXM0",
      "execution_count": 52,
      "outputs": [
        {
          "output_type": "stream",
          "name": "stdout",
          "text": [
            "The contents of the file are\n",
            " Hello\n",
            "You are reading contents of file Test\n",
            "You are reading contents 2 of file Test\n",
            "You are reading contents 3 of file Test\n",
            "\n"
          ]
        }
      ]
    },
    {
      "cell_type": "code",
      "source": [
        "#Read part of the file\n",
        "#Read first 13 characters of file\n",
        "f2 = open(\"Test.txt\",\"r\")\n",
        "print(f2.read(13))"
      ],
      "metadata": {
        "id": "3nqAU8kCZhx1",
        "outputId": "2fcbaaa9-18e8-4873-e867-5c356d3ec15f",
        "colab": {
          "base_uri": "https://localhost:8080/"
        }
      },
      "id": "3nqAU8kCZhx1",
      "execution_count": 53,
      "outputs": [
        {
          "output_type": "stream",
          "name": "stdout",
          "text": [
            "Hello\n",
            "You are\n"
          ]
        }
      ]
    },
    {
      "cell_type": "code",
      "source": [
        "# Read one line of the file\n",
        "f3 = open(\"Test.txt\",\"r\")\n",
        "print(f3.readline())\n",
        "print(f3.readline())\n",
        "print(f3.readline())"
      ],
      "metadata": {
        "id": "go0JstM9Z3kZ",
        "outputId": "67052ef0-fe3a-467a-f859-27318c70c13b",
        "colab": {
          "base_uri": "https://localhost:8080/"
        }
      },
      "id": "go0JstM9Z3kZ",
      "execution_count": 54,
      "outputs": [
        {
          "output_type": "stream",
          "name": "stdout",
          "text": [
            "Hello\n",
            "\n",
            "You are reading contents of file Test\n",
            "\n",
            "You are reading contents 2 of file Test\n",
            "\n"
          ]
        }
      ]
    },
    {
      "cell_type": "code",
      "source": [
        "f4 = open(\"Test.txt\")\n",
        "for x in f4:\n",
        "  print(x)"
      ],
      "metadata": {
        "id": "NUA9vMzNaQyZ",
        "outputId": "583b8825-ca33-415a-dede-bd1885ec4cf8",
        "colab": {
          "base_uri": "https://localhost:8080/"
        }
      },
      "id": "NUA9vMzNaQyZ",
      "execution_count": 55,
      "outputs": [
        {
          "output_type": "stream",
          "name": "stdout",
          "text": [
            "Hello\n",
            "\n",
            "You are reading contents of file Test\n",
            "\n",
            "You are reading contents 2 of file Test\n",
            "\n",
            "You are reading contents 3 of file Test\n",
            "\n"
          ]
        }
      ]
    },
    {
      "cell_type": "code",
      "source": [
        "f = open(\"Test.txt\",\"r\")\n",
        "for line in f:\n",
        "  print(line)\n",
        ""
      ],
      "metadata": {
        "id": "ep6FWzi_akhD",
        "outputId": "905ad30e-37d4-4a5f-881d-aefaaa11226a",
        "colab": {
          "base_uri": "https://localhost:8080/"
        }
      },
      "id": "ep6FWzi_akhD",
      "execution_count": 56,
      "outputs": [
        {
          "output_type": "stream",
          "name": "stdout",
          "text": [
            "Hello\n",
            "\n",
            "You are reading contents of file Test\n",
            "\n",
            "You are reading contents 2 of file Test\n",
            "\n",
            "You are reading contents 3 of file Test\n",
            "\n"
          ]
        }
      ]
    },
    {
      "cell_type": "code",
      "source": [
        "f1.close()\n",
        "f2.close()\n",
        "f3.close()\n",
        "f4.close()"
      ],
      "metadata": {
        "id": "e1nUrX1AbEmK"
      },
      "id": "e1nUrX1AbEmK",
      "execution_count": 57,
      "outputs": []
    },
    {
      "cell_type": "code",
      "source": [
        "f1 = open(\"Test.txt\",\"a\")\n",
        "f1.write(\"Now the data is appended in file!\")\n",
        "f2  = open(\"Test.txt\",\"r\")\n",
        "\n",
        "print(f2.read())"
      ],
      "metadata": {
        "id": "AMt84eoAbVrf",
        "outputId": "22ad2fa0-e5fc-4803-fa46-98e2ebe3b5a0",
        "colab": {
          "base_uri": "https://localhost:8080/"
        }
      },
      "id": "AMt84eoAbVrf",
      "execution_count": 58,
      "outputs": [
        {
          "output_type": "stream",
          "name": "stdout",
          "text": [
            "Hello\n",
            "You are reading contents of file Test\n",
            "You are reading contents 2 of file Test\n",
            "You are reading contents 3 of file Test\n",
            "\n"
          ]
        }
      ]
    },
    {
      "cell_type": "code",
      "source": [
        "# create a new file\n",
        "f5 = open(\"demo.txt\",\"w\")\n",
        "lines_of_text = [\"a line of text\\n\",\"another line of text\\n\",\"a third line\"]\n",
        "f5.writelines(lines_of_text)\n",
        "f5.close()\n",
        "\n",
        "# open and read the file\n",
        "f6 = open(\"demo.txt\",\"r\")\n",
        "print(f6.read())"
      ],
      "metadata": {
        "id": "mS2u10WVcGD5",
        "outputId": "251ddf82-2c6c-4bc4-e88c-e6495d40a3c2",
        "colab": {
          "base_uri": "https://localhost:8080/"
        }
      },
      "id": "mS2u10WVcGD5",
      "execution_count": 59,
      "outputs": [
        {
          "output_type": "stream",
          "name": "stdout",
          "text": [
            "a line of text\n",
            "another line of text\n",
            "a third line\n"
          ]
        }
      ]
    },
    {
      "cell_type": "code",
      "source": [
        "# create a new empty file\n",
        "f1 = open(\"demo5.txt\",\"x\")"
      ],
      "metadata": {
        "id": "0uzXr2s0dfe5"
      },
      "id": "0uzXr2s0dfe5",
      "execution_count": 69,
      "outputs": []
    },
    {
      "cell_type": "code",
      "source": [
        "import os\n",
        "if os.path.exists(\"demo.txt\"):\n",
        "  print(\"The file exists\")\n",
        "else:\n",
        "  print(\"The file does not exist\")"
      ],
      "metadata": {
        "id": "ktsNeUMVdxMv",
        "outputId": "69bd714b-0dd9-48ec-890b-991d56407a03",
        "colab": {
          "base_uri": "https://localhost:8080/"
        }
      },
      "id": "ktsNeUMVdxMv",
      "execution_count": 63,
      "outputs": [
        {
          "output_type": "stream",
          "name": "stdout",
          "text": [
            "The file exists\n"
          ]
        }
      ]
    },
    {
      "cell_type": "code",
      "source": [
        "import os\n",
        "os.remove(\"demo.txt\")\n",
        "f6 = open(\"demo.txt\",\"r\")\n",
        "print(f6.read())"
      ],
      "metadata": {
        "id": "44bvZScUeihi",
        "outputId": "0a916904-d821-47ee-dba2-4c2b74f6828c",
        "colab": {
          "base_uri": "https://localhost:8080/",
          "height": 193
        }
      },
      "id": "44bvZScUeihi",
      "execution_count": 64,
      "outputs": [
        {
          "output_type": "error",
          "ename": "FileNotFoundError",
          "evalue": "[Errno 2] No such file or directory: 'demo.txt'",
          "traceback": [
            "\u001b[0;31m---------------------------------------------------------------------------\u001b[0m",
            "\u001b[0;31mFileNotFoundError\u001b[0m                         Traceback (most recent call last)",
            "\u001b[0;32m/tmp/ipython-input-4042334843.py\u001b[0m in \u001b[0;36m<cell line: 0>\u001b[0;34m()\u001b[0m\n\u001b[1;32m      1\u001b[0m \u001b[0;32mimport\u001b[0m \u001b[0mos\u001b[0m\u001b[0;34m\u001b[0m\u001b[0;34m\u001b[0m\u001b[0m\n\u001b[1;32m      2\u001b[0m \u001b[0mos\u001b[0m\u001b[0;34m.\u001b[0m\u001b[0mremove\u001b[0m\u001b[0;34m(\u001b[0m\u001b[0;34m\"demo.txt\"\u001b[0m\u001b[0;34m)\u001b[0m\u001b[0;34m\u001b[0m\u001b[0;34m\u001b[0m\u001b[0m\n\u001b[0;32m----> 3\u001b[0;31m \u001b[0mf6\u001b[0m \u001b[0;34m=\u001b[0m \u001b[0mopen\u001b[0m\u001b[0;34m(\u001b[0m\u001b[0;34m\"demo.txt\"\u001b[0m\u001b[0;34m,\u001b[0m\u001b[0;34m\"r\"\u001b[0m\u001b[0;34m)\u001b[0m\u001b[0;34m\u001b[0m\u001b[0;34m\u001b[0m\u001b[0m\n\u001b[0m\u001b[1;32m      4\u001b[0m \u001b[0mprint\u001b[0m\u001b[0;34m(\u001b[0m\u001b[0mf6\u001b[0m\u001b[0;34m.\u001b[0m\u001b[0mread\u001b[0m\u001b[0;34m(\u001b[0m\u001b[0;34m)\u001b[0m\u001b[0;34m)\u001b[0m\u001b[0;34m\u001b[0m\u001b[0;34m\u001b[0m\u001b[0m\n",
            "\u001b[0;31mFileNotFoundError\u001b[0m: [Errno 2] No such file or directory: 'demo.txt'"
          ]
        }
      ]
    },
    {
      "cell_type": "code",
      "source": [
        "import os\n",
        "os.rmdir(\"demo\")"
      ],
      "metadata": {
        "id": "RQNlTgNhfRrX",
        "outputId": "93ead606-7aaf-4640-b03b-514e24864674",
        "colab": {
          "base_uri": "https://localhost:8080/",
          "height": 159
        }
      },
      "id": "RQNlTgNhfRrX",
      "execution_count": 65,
      "outputs": [
        {
          "output_type": "error",
          "ename": "FileNotFoundError",
          "evalue": "[Errno 2] No such file or directory: 'demo'",
          "traceback": [
            "\u001b[0;31m---------------------------------------------------------------------------\u001b[0m",
            "\u001b[0;31mFileNotFoundError\u001b[0m                         Traceback (most recent call last)",
            "\u001b[0;32m/tmp/ipython-input-3273629350.py\u001b[0m in \u001b[0;36m<cell line: 0>\u001b[0;34m()\u001b[0m\n\u001b[1;32m      1\u001b[0m \u001b[0;32mimport\u001b[0m \u001b[0mos\u001b[0m\u001b[0;34m\u001b[0m\u001b[0;34m\u001b[0m\u001b[0m\n\u001b[0;32m----> 2\u001b[0;31m \u001b[0mos\u001b[0m\u001b[0;34m.\u001b[0m\u001b[0mrmdir\u001b[0m\u001b[0;34m(\u001b[0m\u001b[0;34m\"demo\"\u001b[0m\u001b[0;34m)\u001b[0m\u001b[0;34m\u001b[0m\u001b[0;34m\u001b[0m\u001b[0m\n\u001b[0m",
            "\u001b[0;31mFileNotFoundError\u001b[0m: [Errno 2] No such file or directory: 'demo'"
          ]
        }
      ]
    },
    {
      "cell_type": "code",
      "source": [
        "def program3():\n",
        "  with open(\"Test.txt\",\"r\") as f1:\n",
        "    data=f1.read()\n",
        "    with open(\"Test.txt\",\"r\") as f2:\n",
        "     data1=f2.read()\n",
        "\n",
        "    with open(\"Test.txt\",\"w\") as f3:\n",
        "      f3.write(\"Hello\\n\")\n",
        "      f3.write(\"You are reading contents of file Test.txt\\n\")\n",
        "\n",
        "\n",
        "\n"
      ],
      "metadata": {
        "id": "N9CpWCFjgWm6"
      },
      "id": "N9CpWCFjgWm6",
      "execution_count": 66,
      "outputs": []
    },
    {
      "cell_type": "code",
      "source": [
        "with open(\"Test.txt\",\"r\") as f1:\n",
        "  #data = reradlines()\n",
        "  for line in f:\n",
        "    word=line.split()\n",
        "    print(word)"
      ],
      "metadata": {
        "id": "0Z3E3U0Fgenv"
      },
      "id": "0Z3E3U0Fgenv",
      "execution_count": 73,
      "outputs": []
    },
    {
      "cell_type": "code",
      "source": [
        "f=open(\"test1\",\"w\")\n",
        "f.write(\"Kunal Nayak\\n\")\n",
        "f.close()\n",
        "f=open(\"test1\",\"r\")\n",
        "print(f.read(3))\n",
        "f.seek(0)\n",
        "print(f.readline())\n",
        "f.seek(20)\n",
        "print(f.readline())\n",
        "print(f.readline())\n",
        "f.seek(0)\n",
        "n=len(f.read())\n",
        "print(\"The lenght of file is\",n)"
      ],
      "metadata": {
        "id": "wwKYQnkKiVZj",
        "outputId": "b5c91691-bd67-40e1-c0c3-b2a30b8ead51",
        "colab": {
          "base_uri": "https://localhost:8080/"
        }
      },
      "id": "wwKYQnkKiVZj",
      "execution_count": 76,
      "outputs": [
        {
          "output_type": "stream",
          "name": "stdout",
          "text": [
            "Kun\n",
            "Kunal Nayak\n",
            "\n",
            "\n",
            "\n",
            "The lenght of file is 12\n"
          ]
        }
      ]
    },
    {
      "cell_type": "code",
      "source": [],
      "metadata": {
        "id": "3626nHuGj0X0"
      },
      "id": "3626nHuGj0X0",
      "execution_count": null,
      "outputs": []
    }
  ],
  "metadata": {
    "kernelspec": {
      "display_name": "Python 3",
      "name": "python3"
    },
    "language_info": {
      "name": "python"
    },
    "required_libs": [],
    "colab": {
      "provenance": []
    }
  },
  "nbformat": 4,
  "nbformat_minor": 5
}